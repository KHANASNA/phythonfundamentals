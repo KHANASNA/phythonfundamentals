{
 "cells": [
  {
   "cell_type": "code",
   "execution_count": null,
   "id": "6f571a10",
   "metadata": {},
   "outputs": [],
   "source": [
    "introduction to looping statements :"
   ]
  },
  {
   "cell_type": "code",
   "execution_count": 1,
   "id": "0dcbb79c",
   "metadata": {},
   "outputs": [],
   "source": [
    "students = ['karthik','naveen','faisal','hameed','laiba','pavithra']"
   ]
  },
  {
   "cell_type": "code",
   "execution_count": 2,
   "id": "f2937105",
   "metadata": {},
   "outputs": [
    {
     "name": "stdout",
     "output_type": "stream",
     "text": [
      "['karthik', 'naveen', 'faisal', 'hameed', 'laiba', 'pavithra']\n"
     ]
    }
   ],
   "source": [
    "print(students)"
   ]
  },
  {
   "cell_type": "code",
   "execution_count": 3,
   "id": "84d0b526",
   "metadata": {},
   "outputs": [
    {
     "data": {
      "text/plain": [
       "list"
      ]
     },
     "execution_count": 3,
     "metadata": {},
     "output_type": "execute_result"
    }
   ],
   "source": [
    "type(students)"
   ]
  },
  {
   "cell_type": "code",
   "execution_count": null,
   "id": "22c81996",
   "metadata": {},
   "outputs": [],
   "source": [
    "# I want to appreciate the studentsb"
   ]
  },
  {
   "cell_type": "code",
   "execution_count": 4,
   "id": "418b2b8a",
   "metadata": {},
   "outputs": [
    {
     "name": "stdout",
     "output_type": "stream",
     "text": [
      "keep up the good work, Karthik\n"
     ]
    }
   ],
   "source": [
    "message = f\"keep up the good work, {students[0].title()}\"\n",
    "print(message)"
   ]
  },
  {
   "cell_type": "code",
   "execution_count": 5,
   "id": "22b7a324",
   "metadata": {},
   "outputs": [
    {
     "name": "stdout",
     "output_type": "stream",
     "text": [
      "keep up the good work, Laiba\n"
     ]
    }
   ],
   "source": [
    "message = f\"keep up the good work, {students[4].title()}\"\n",
    "print(message)"
   ]
  },
  {
   "cell_type": "code",
   "execution_count": null,
   "id": "ef63aeb7",
   "metadata": {},
   "outputs": [],
   "source": [
    "General syntax of for loop :\n",
    "    \n",
    "    for tempvar in mainvar :\n",
    "        print(tempvar)"
   ]
  },
  {
   "cell_type": "code",
   "execution_count": 6,
   "id": "a498c531",
   "metadata": {},
   "outputs": [
    {
     "name": "stdout",
     "output_type": "stream",
     "text": [
      "keep up the good work, Karthik\n",
      "keep up the good work, Naveen\n",
      "keep up the good work, Faisal\n",
      "keep up the good work, Hameed\n",
      "keep up the good work, Laiba\n",
      "keep up the good work, Pavithra\n"
     ]
    }
   ],
   "source": [
    "for x in students:\n",
    "    print(f\"keep up the good work, {x.title()}\")"
   ]
  },
  {
   "cell_type": "code",
   "execution_count": 7,
   "id": "203a0167",
   "metadata": {},
   "outputs": [
    {
     "name": "stdout",
     "output_type": "stream",
     "text": [
      "karthik\n",
      "naveen\n",
      "faisal\n",
      "hameed\n",
      "laiba\n",
      "pavithra\n"
     ]
    }
   ],
   "source": [
    "for a in students: #indentation\n",
    "    print(a)"
   ]
  },
  {
   "cell_type": "code",
   "execution_count": 8,
   "id": "0d3e5d96",
   "metadata": {},
   "outputs": [
    {
     "ename": "IndentationError",
     "evalue": "expected an indented block (3927767237.py, line 2)",
     "output_type": "error",
     "traceback": [
      "\u001b[1;36m  Input \u001b[1;32mIn [8]\u001b[1;36m\u001b[0m\n\u001b[1;33m    print(a)\u001b[0m\n\u001b[1;37m    ^\u001b[0m\n\u001b[1;31mIndentationError\u001b[0m\u001b[1;31m:\u001b[0m expected an indented block\n"
     ]
    }
   ],
   "source": [
    "for a in students:  #indentation\n",
    "print(a)"
   ]
  },
  {
   "cell_type": "code",
   "execution_count": null,
   "id": "bcac3a65",
   "metadata": {},
   "outputs": [],
   "source": [
    "#req : looking forward for todays github practise URL"
   ]
  },
  {
   "cell_type": "code",
   "execution_count": 10,
   "id": "be826bd8",
   "metadata": {},
   "outputs": [
    {
     "name": "stdout",
     "output_type": "stream",
     "text": [
      "keep up the good work, Karthik\n",
      "looking forward for todays github practice URL, Karthik\n",
      "keep up the good work, Naveen\n",
      "looking forward for todays github practice URL, Naveen\n",
      "keep up the good work, Faisal\n",
      "looking forward for todays github practice URL, Faisal\n",
      "keep up the good work, Hameed\n",
      "looking forward for todays github practice URL, Hameed\n",
      "keep up the good work, Laiba\n",
      "looking forward for todays github practice URL, Laiba\n",
      "keep up the good work, Pavithra\n",
      "looking forward for todays github practice URL, Pavithra\n"
     ]
    }
   ],
   "source": [
    "for x in students:\n",
    "    print(f\"keep up the good work, {x.title()}\")\n",
    "    print(f\"looking forward for todays github practice URL, {x.title()}\")"
   ]
  },
  {
   "cell_type": "code",
   "execution_count": 11,
   "id": "584acacd",
   "metadata": {},
   "outputs": [
    {
     "name": "stdout",
     "output_type": "stream",
     "text": [
      "keep up the good work, Karthik\n",
      "looking forward for todays github practice URL, Karthik\n",
      "\n",
      "keep up the good work, Naveen\n",
      "looking forward for todays github practice URL, Naveen\n",
      "\n",
      "keep up the good work, Faisal\n",
      "looking forward for todays github practice URL, Faisal\n",
      "\n",
      "keep up the good work, Hameed\n",
      "looking forward for todays github practice URL, Hameed\n",
      "\n",
      "keep up the good work, Laiba\n",
      "looking forward for todays github practice URL, Laiba\n",
      "\n",
      "keep up the good work, Pavithra\n",
      "looking forward for todays github practice URL, Pavithra\n",
      "\n"
     ]
    }
   ],
   "source": [
    "for x in students:\n",
    "    print(f\"keep up the good work, {x.title()}\")\n",
    "    print(f\"looking forward for todays github practice URL, {x.title()}\\n\")"
   ]
  },
  {
   "cell_type": "code",
   "execution_count": 12,
   "id": "eb2f1955",
   "metadata": {},
   "outputs": [
    {
     "name": "stdout",
     "output_type": "stream",
     "text": [
      "keep up the good work, Karthik\n",
      "looking forward for todays github practice URL, Karthik\n",
      "\n",
      "keep up the good work, Naveen\n",
      "looking forward for todays github practice URL, Naveen\n",
      "\n",
      "keep up the good work, Faisal\n",
      "looking forward for todays github practice URL, Faisal\n",
      "\n",
      "keep up the good work, Hameed\n",
      "looking forward for todays github practice URL, Hameed\n",
      "\n",
      "keep up the good work, Laiba\n",
      "looking forward for todays github practice URL, Laiba\n",
      "\n",
      "keep up the good work, Pavithra\n",
      "looking forward for todays github practice URL, Pavithra\n",
      "\n",
      "THANK YOU ALL FOR JOINING THE SESSION\n"
     ]
    }
   ],
   "source": [
    "for x in students:\n",
    "    print(f\"keep up the good work, {x.title()}\")  #writing in the loop\n",
    "    print(f\"looking forward for todays github practice URL, {x.title()}\\n\")\n",
    "\n",
    "print(\"THANK YOU ALL FOR JOINING THE SESSION\") #writing out of the loop"
   ]
  },
  {
   "cell_type": "code",
   "execution_count": null,
   "id": "07886026",
   "metadata": {},
   "outputs": [],
   "source": []
  },
  {
   "cell_type": "code",
   "execution_count": null,
   "id": "d4d186bf",
   "metadata": {},
   "outputs": [],
   "source": []
  },
  {
   "cell_type": "code",
   "execution_count": null,
   "id": "981be460",
   "metadata": {},
   "outputs": [],
   "source": []
  }
 ],
 "metadata": {
  "kernelspec": {
   "display_name": "Python 3 (ipykernel)",
   "language": "python",
   "name": "python3"
  },
  "language_info": {
   "codemirror_mode": {
    "name": "ipython",
    "version": 3
   },
   "file_extension": ".py",
   "mimetype": "text/x-python",
   "name": "python",
   "nbconvert_exporter": "python",
   "pygments_lexer": "ipython3",
   "version": "3.9.12"
  }
 },
 "nbformat": 4,
 "nbformat_minor": 5
}
